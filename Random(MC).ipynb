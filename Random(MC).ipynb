{
 "metadata": {
  "language": "Julia",
  "name": "",
  "signature": "sha256:d20308d5b88dd19287324d2ad9882dab1bdc6bee71345b7fc8303b33031584d7"
 },
 "nbformat": 3,
 "nbformat_minor": 0,
 "worksheets": [
  {
   "cells": [
    {
     "cell_type": "code",
     "collapsed": false,
     "input": [],
     "language": "python",
     "metadata": {},
     "outputs": []
    },
    {
     "cell_type": "code",
     "collapsed": false,
     "input": [
      "function makerandom(N)\n",
      "\tx = zeros(N);\n",
      "\ty = zeros(N);\n",
      "\tz = zeros(N);\n",
      "\t\n",
      "\tx = rand(N);\n",
      "\ty = rand(N);\n",
      "\tz = rand(N);\n",
      "\t\n",
      "\ticount = 0;\n",
      "\tfor i = 1:N\n",
      "\t\tif x[i]^2+y[i]^2+z[i]^2 <= 1\n",
      "\t\t\ticount+=1;\n",
      "\t\tend\n",
      "\tend\n",
      "\tVr = 4.0/3.0*pi;\n",
      "\tprintln(\"volume: $(8*icount/N)  Ideal vol: $Vr\")\n",
      "\t#println(\"Ratio: $(8*icount/N/Vr)\")\n",
      "end\n",
      "\n",
      "\n",
      "gc();\n",
      "N = 600000000;\n",
      "@time makerandom(N);\n",
      "gc();\n",
      "\n"
     ],
     "language": "python",
     "metadata": {},
     "outputs": [
      {
       "output_type": "stream",
       "stream": "stdout",
       "text": [
        "volume: 4.18870364  Ideal vol: 4.1887902047863905\n"
       ]
      },
      {
       "output_type": "stream",
       "stream": "stdout",
       "text": [
        "elapsed time: 78.883023398 seconds (28804127224 bytes allocated, 1.16% gc time)\n"
       ]
      }
     ],
     "prompt_number": 1
    },
    {
     "cell_type": "code",
     "collapsed": false,
     "input": [],
     "language": "python",
     "metadata": {},
     "outputs": []
    }
   ],
   "metadata": {}
  }
 ]
}
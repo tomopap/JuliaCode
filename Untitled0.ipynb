{
 "metadata": {
  "name": "",
  "signature": "sha256:3c82b09a37559ba58109558360321fc373f73b3d55711190de978503f96e3b5f"
 },
 "nbformat": 3,
 "nbformat_minor": 0,
 "worksheets": []
}